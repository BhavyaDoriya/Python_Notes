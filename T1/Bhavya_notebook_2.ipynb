{
 "cells": [
  {
   "cell_type": "code",
   "execution_count": 6,
   "metadata": {},
   "outputs": [
    {
     "ename": "SyntaxError",
     "evalue": "invalid syntax (<ipython-input-6-cec892a31747>, line 2)",
     "output_type": "error",
     "traceback": [
      "\u001b[1;36m  File \u001b[1;32m\"<ipython-input-6-cec892a31747>\"\u001b[1;36m, line \u001b[1;32m2\u001b[0m\n\u001b[1;33m    print(a+=3)//Error\u001b[0m\n\u001b[1;37m           ^\u001b[0m\n\u001b[1;31mSyntaxError\u001b[0m\u001b[1;31m:\u001b[0m invalid syntax\n"
     ]
    }
   ],
   "source": [
    "a=7\n",
    "print(a+=3)//Error"
   ]
  },
  {
   "cell_type": "code",
   "execution_count": 8,
   "metadata": {},
   "outputs": [
    {
     "data": {
      "text/plain": [
       "0.0"
      ]
     },
     "execution_count": 8,
     "metadata": {},
     "output_type": "execute_result"
    }
   ],
   "source": [
    "# Will give 0.0\n",
    "1/True and False/1"
   ]
  },
  {
   "cell_type": "code",
   "execution_count": 11,
   "metadata": {},
   "outputs": [
    {
     "data": {
      "text/plain": [
       "True"
      ]
     },
     "execution_count": 11,
     "metadata": {},
     "output_type": "execute_result"
    }
   ],
   "source": [
    "# Membership operators\n",
    "# (1)in\n",
    "# '1' in 123 --> Error\n",
    "'V' in 'Vishal'"
   ]
  },
  {
   "cell_type": "code",
   "execution_count": 15,
   "metadata": {},
   "outputs": [
    {
     "data": {
      "text/plain": [
       "False"
      ]
     },
     "execution_count": 15,
     "metadata": {},
     "output_type": "execute_result"
    }
   ],
   "source": [
    "# (2)not in\n",
    "# '1' in 123 --> Error\n",
    "'V' not in 'Vishal'"
   ]
  },
  {
   "cell_type": "code",
   "execution_count": 19,
   "metadata": {},
   "outputs": [
    {
     "name": "stderr",
     "output_type": "stream",
     "text": [
      "<>:2: SyntaxWarning: \"is\" with a literal. Did you mean \"==\"?\n",
      "<>:3: SyntaxWarning: \"is\" with a literal. Did you mean \"==\"?\n",
      "<>:2: SyntaxWarning: \"is\" with a literal. Did you mean \"==\"?\n",
      "<>:3: SyntaxWarning: \"is\" with a literal. Did you mean \"==\"?\n",
      "<ipython-input-19-7bf255c609b8>:2: SyntaxWarning: \"is\" with a literal. Did you mean \"==\"?\n",
      "  1 is 1.0\n",
      "<ipython-input-19-7bf255c609b8>:3: SyntaxWarning: \"is\" with a literal. Did you mean \"==\"?\n",
      "  1 is 1\n"
     ]
    },
    {
     "data": {
      "text/plain": [
       "True"
      ]
     },
     "execution_count": 19,
     "metadata": {},
     "output_type": "execute_result"
    }
   ],
   "source": [
    "#(3)is\n",
    "1 is 1.0\n",
    "1 is 1"
   ]
  },
  {
   "cell_type": "code",
   "execution_count": 21,
   "metadata": {},
   "outputs": [
    {
     "name": "stderr",
     "output_type": "stream",
     "text": [
      "<>:2: SyntaxWarning: \"is not\" with a literal. Did you mean \"!=\"?\n",
      "<>:3: SyntaxWarning: \"is not\" with a literal. Did you mean \"!=\"?\n",
      "<>:2: SyntaxWarning: \"is not\" with a literal. Did you mean \"!=\"?\n",
      "<>:3: SyntaxWarning: \"is not\" with a literal. Did you mean \"!=\"?\n",
      "<ipython-input-21-fa476c1d0072>:2: SyntaxWarning: \"is not\" with a literal. Did you mean \"!=\"?\n",
      "  1 is not 1.0\n",
      "<ipython-input-21-fa476c1d0072>:3: SyntaxWarning: \"is not\" with a literal. Did you mean \"!=\"?\n",
      "  1 is not 1\n"
     ]
    },
    {
     "data": {
      "text/plain": [
       "False"
      ]
     },
     "execution_count": 21,
     "metadata": {},
     "output_type": "execute_result"
    }
   ],
   "source": [
    "#(3)is not\n",
    "1 is not 1.0\n",
    "1 is not 1"
   ]
  },
  {
   "cell_type": "code",
   "execution_count": 22,
   "metadata": {},
   "outputs": [
    {
     "data": {
      "text/plain": [
       "1"
      ]
     },
     "execution_count": 22,
     "metadata": {},
     "output_type": "execute_result"
    }
   ],
   "source": [
    "# Bitwise operators\n",
    "# (1)&\n",
    "1 & 1 "
   ]
  },
  {
   "cell_type": "code",
   "execution_count": 24,
   "metadata": {},
   "outputs": [
    {
     "data": {
      "text/plain": [
       "1"
      ]
     },
     "execution_count": 24,
     "metadata": {},
     "output_type": "execute_result"
    }
   ],
   "source": [
    "# (2)|\n",
    "1 | 1"
   ]
  },
  {
   "cell_type": "code",
   "execution_count": 25,
   "metadata": {},
   "outputs": [
    {
     "data": {
      "text/plain": [
       "0"
      ]
     },
     "execution_count": 25,
     "metadata": {},
     "output_type": "execute_result"
    }
   ],
   "source": [
    "# (3)^\n",
    "1 ^ 1"
   ]
  },
  {
   "cell_type": "code",
   "execution_count": 27,
   "metadata": {},
   "outputs": [
    {
     "data": {
      "text/plain": [
       "1"
      ]
     },
     "execution_count": 27,
     "metadata": {},
     "output_type": "execute_result"
    }
   ],
   "source": [
    "# (4)>>\n",
    "5>>2"
   ]
  },
  {
   "cell_type": "code",
   "execution_count": 28,
   "metadata": {},
   "outputs": [
    {
     "data": {
      "text/plain": [
       "20"
      ]
     },
     "execution_count": 28,
     "metadata": {},
     "output_type": "execute_result"
    }
   ],
   "source": [
    "# (5)<<\n",
    "5<<2"
   ]
  },
  {
   "cell_type": "code",
   "execution_count": 29,
   "metadata": {},
   "outputs": [
    {
     "data": {
      "text/plain": [
       "-6"
      ]
     },
     "execution_count": 29,
     "metadata": {},
     "output_type": "execute_result"
    }
   ],
   "source": [
    "# (6)~\n",
    "~5"
   ]
  },
  {
   "cell_type": "code",
   "execution_count": 30,
   "metadata": {},
   "outputs": [],
   "source": [
    "# Operator precedence\n",
    "# AND and OR do not follow precendence in python so always use brackets\n",
    "\n",
    "# ()\n",
    "# **   R-->L\n",
    "# * / %\n",
    "# + -\n",
    "# < <=\n",
    "# > >=\n",
    "# == !=\n",
    "# not\n",
    "# and\n",
    "# or\n",
    "# Assigment operators  R-->L                                                                                                       \n"
   ]
  },
  {
   "cell_type": "code",
   "execution_count": 34,
   "metadata": {},
   "outputs": [
    {
     "name": "stdout",
     "output_type": "stream",
     "text": [
      "X\n"
     ]
    }
   ],
   "source": [
    "if 1!=1:\n",
    "    print(\"D\")\n",
    "elif True:\n",
    "    print(\"X\")"
   ]
  },
  {
   "cell_type": "code",
   "execution_count": 44,
   "metadata": {},
   "outputs": [
    {
     "name": "stdout",
     "output_type": "stream",
     "text": [
      "Enter a number : 6\n",
      "6 is even\n"
     ]
    }
   ],
   "source": [
    "n=int(input(\"Enter a number : \"))\n",
    "# format string used\n",
    "if(n%2==0):\n",
    "    print(f\"{n} is even\") \n",
    "else:\n",
    "    print(f\"{n} is odd\")"
   ]
  },
  {
   "cell_type": "code",
   "execution_count": 66,
   "metadata": {},
   "outputs": [],
   "source": [
    "def check_leap(year):\n",
    "    if(((year%4==0) and (year%100!=0))or (year%400==0)):\n",
    "        return True\n",
    "    else:\n",
    "        return False"
   ]
  },
  {
   "cell_type": "code",
   "execution_count": 64,
   "metadata": {},
   "outputs": [
    {
     "name": "stdout",
     "output_type": "stream",
     "text": [
      "Enter amount : 487\n",
      "6  nickle  1  quater  1  Tens  0  Fives  2  Pannies\n"
     ]
    }
   ],
   "source": [
    "amount=int(input(\"Enter amount : \"))\n",
    "panny=1\n",
    "fives=5\n",
    "tens=10\n",
    "quater=25\n",
    "nickle=75\n",
    "\n",
    "amountInNickle=amount//nickle\n",
    "mod=amount%nickle\n",
    "amountInQuater=mod//quater\n",
    "mod=mod%quater\n",
    "amountInTens=mod//tens\n",
    "mod=mod%tens\n",
    "amountInFives=mod//fives\n",
    "mod=mod%fives\n",
    "amountInPanny=mod\n",
    "\n",
    "print(amountInNickle,\" nickle \",amountInQuater,\" quater \",amountInTens, \" Tens \",amountInFives,\" Fives \",amountInPanny, \" Pannies\")"
   ]
  },
  {
   "cell_type": "code",
   "execution_count": 76,
   "metadata": {},
   "outputs": [
    {
     "name": "stdout",
     "output_type": "stream",
     "text": [
      "Enter date : 13\n",
      "Enter month : 2\n",
      "Enter year : 2007\n",
      "14-02-2007\n"
     ]
    }
   ],
   "source": [
    "date=int(input(\"Enter date : \"))\n",
    "month=int(input(\"Enter month : \"))\n",
    "year=int(input(\"Enter year : \"))\n",
    "\n",
    "if(month==1 or month==3 or month ==5 or month == 7 or month==8 or month==10 or month==12):\n",
    "    if(date==31 and month!=10 and  month !=12):\n",
    "        month=month+1\n",
    "        print(f\"01-0{month}-{year}\")\n",
    "    elif(date==31 and month==12):\n",
    "        year=year+1\n",
    "        month=1\n",
    "        print(f\"01-0{month}-{year}\")\n",
    "    elif(date==31 and month==10):\n",
    "        month=month=1\n",
    "        print(f\"01-{month}-{year}\")\n",
    "    else:\n",
    "        date=date+1\n",
    "        if(date>=9 and date<31):\n",
    "            if(month>9):\n",
    "                print(f\"{date}-{month}-{year}\")\n",
    "            else:\n",
    "                print(f\"{date}-0{month}-{year}\")\n",
    "        elif(date>0 and date<9):\n",
    "            if(month>9):\n",
    "                print(f\"0{date}-{month}-{year}\")\n",
    "            else:\n",
    "                print(f\"0{date}-0{month}-{year}\")\n",
    "        else:\n",
    "            print(\"Invalid\")\n",
    "elif(month==4 or month==6 or month==9 or month==11):\n",
    "        if(date==30 and  month !=11):\n",
    "            month=month+1\n",
    "            print(f\"01-0{month}-{year}\")\n",
    "        elif(date==30 and month==11):\n",
    "            month=month+1\n",
    "            print(f\"01-{month}-{year}\")\n",
    "        else:\n",
    "            date=date+1\n",
    "            if(date>=9 and date<=30):\n",
    "                if(month>9):\n",
    "                    print(f\"{date}-{month}-{year}\")\n",
    "                else:\n",
    "                    print(f\"{date}-0{month}-{year}\")\n",
    "            elif(date>0 and date<9):\n",
    "                if(month>9):\n",
    "                    print(f\"0{date}-{month}-{year}\")\n",
    "                else:\n",
    "                    print(f\"0{date}-0{month}-{year}\")\n",
    "            else:\n",
    "                print(\"Invalid\")\n",
    "elif(month==2):\n",
    "    max_day=0\n",
    "    if(check_leap(month)):\n",
    "        max_day=29\n",
    "    else:\n",
    "        max_day=28\n",
    "    if(date==max_day):\n",
    "        month=month+1\n",
    "        date=1\n",
    "        print(f\"0{date}-0{month}-{year}\")\n",
    "    elif(date>=9 and date<=30):\n",
    "        date=date+1\n",
    "        if(month>9):\n",
    "            print(f\"{date}-{month}-{year}\")\n",
    "        else:\n",
    "            print(f\"{date}-0{month}-{year}\")\n",
    "    elif(date>0 and date<9):\n",
    "        date=date+1\n",
    "        if(month>9):\n",
    "            print(f\"0{date}-{month}-{year}\")\n",
    "        else:\n",
    "            print(f\"0{date}-0{month}-{year}\")\n",
    "    else:\n",
    "        print(\"Invalid\")\n",
    "else:\n",
    "    print(\"Invalid\")"
   ]
  },
  {
   "cell_type": "code",
   "execution_count": 82,
   "metadata": {},
   "outputs": [
    {
     "name": "stdout",
     "output_type": "stream",
     "text": [
      "Enter cm : 350\n",
      "3.0 m 50.0 cm\n"
     ]
    }
   ],
   "source": [
    "val=float(input(\"Enter cm : \"))\n",
    "if(val>=100000):\n",
    "    km=val//100000\n",
    "    val=val%100000\n",
    "    print(f\"{km} Km\",end=\" \")\n",
    "if(val>100):\n",
    "    m=val//100\n",
    "    val=val%100\n",
    "    print(f\"{m} m {val} cm\")\n",
    "    "
   ]
  }
 ],
 "metadata": {
  "kernelspec": {
   "display_name": "Python 3",
   "language": "python",
   "name": "python3"
  },
  "language_info": {
   "codemirror_mode": {
    "name": "ipython",
    "version": 3
   },
   "file_extension": ".py",
   "mimetype": "text/x-python",
   "name": "python",
   "nbconvert_exporter": "python",
   "pygments_lexer": "ipython3",
   "version": "3.8.5"
  }
 },
 "nbformat": 4,
 "nbformat_minor": 4
}
