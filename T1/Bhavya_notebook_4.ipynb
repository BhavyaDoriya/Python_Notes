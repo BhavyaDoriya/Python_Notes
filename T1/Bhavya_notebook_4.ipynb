{
 "cells": [
  {
   "cell_type": "code",
   "execution_count": 5,
   "metadata": {},
   "outputs": [
    {
     "name": "stdout",
     "output_type": "stream",
     "text": [
      "Enter marks of student: 80\n",
      "Press Q to stop/Press any other key to continue : df\n",
      "Enter marks of student: 60\n",
      "Press Q to stop/Press any other key to continue : f\n",
      "Enter marks of student: 70\n",
      "Press Q to stop/Press any other key to continue : g\n",
      "Enter marks of student: 40\n",
      "Press Q to stop/Press any other key to continue : f\n",
      "Enter marks of student: 50\n",
      "Press Q to stop/Press any other key to continue : f\n",
      "Enter marks of student: 45\n",
      "Press Q to stop/Press any other key to continue : Q\n",
      "max=80.0,min=40.0,second max=70.0,second min=45.0,avg=57.5\n"
     ]
    }
   ],
   "source": [
    "max=-1\n",
    "min=-1\n",
    "avg=0\n",
    "sum=0\n",
    "count=0\n",
    "secondmax=-1\n",
    "secondmin=-1\n",
    "while(True):\n",
    "    marks=float(input(\"Enter marks of student: \"))\n",
    "    if(marks>max):\n",
    "        secondmax=max\n",
    "        max=marks\n",
    "    elif(marks>secondmax and secondmax!=max):\n",
    "        secondmax=marks\n",
    "        \n",
    "    if(count==0):\n",
    "        min=marks\n",
    "        secondmin=min\n",
    "\n",
    "    elif(marks<min):\n",
    "        min=marks\n",
    "    elif(marks<secondmin and secondmin!=min):\n",
    "        secondmin=marks\n",
    "    sum=sum+marks\n",
    "    count=count+1\n",
    "    \n",
    "    choice=input(\"Press Q to stop/Press any other key to continue : \")\n",
    "    if(choice==\"Q\"):\n",
    "        avg=sum/count\n",
    "        print(f\"max={max},min={min},second max={secondmax},second min={secondmin},avg={avg}\")\n",
    "        break\n",
    "\n",
    "#     80 60 70 40 50 45"
   ]
  },
  {
   "cell_type": "code",
   "execution_count": 25,
   "metadata": {},
   "outputs": [
    {
     "name": "stdout",
     "output_type": "stream",
     "text": [
      "Enter rows:5\n",
      "* * * * * \n",
      "* * * * * \n",
      "* * * * * \n",
      "* * * * * \n",
      "* * * * * \n"
     ]
    }
   ],
   "source": [
    "n=int(input(\"Enter rows:\"))\n",
    "for i in range(1,n+1):\n",
    "    for j in range(1,n+1):\n",
    "        print(\"*\",end=\" \")\n",
    "        \n",
    "    print()\n",
    "    "
   ]
  },
  {
   "cell_type": "code",
   "execution_count": 23,
   "metadata": {},
   "outputs": [
    {
     "name": "stdout",
     "output_type": "stream",
     "text": [
      "Enter rows:5\n",
      "* \n",
      "* * \n",
      "* * * \n",
      "* * * * \n",
      "* * * * * \n"
     ]
    }
   ],
   "source": [
    "\n",
    "size=int(input(\"Enter rows:\"))  \n",
    "for i in range(0,size):\n",
    "    for j in range(0,i+1):\n",
    "        print(\"*\",end=\" \")\n",
    "    print()"
   ]
  },
  {
   "cell_type": "code",
   "execution_count": 26,
   "metadata": {},
   "outputs": [
    {
     "name": "stdout",
     "output_type": "stream",
     "text": [
      "Enter rows:5\n",
      "            * \n",
      "          * * \n",
      "        * * * \n",
      "      * * * * \n",
      "    * * * * * \n"
     ]
    }
   ],
   "source": [
    "\n",
    "size=int(input(\"Enter rows:\"))  \n",
    "for i in range(0,size):\n",
    "    for space in range(size,i-1,-1):\n",
    "        print(\" \",end=\" \")\n",
    "    for j in range(0,i+1):\n",
    "        print(\"*\",end=\" \")\n",
    "    print()"
   ]
  },
  {
   "cell_type": "code",
   "execution_count": 28,
   "metadata": {},
   "outputs": [
    {
     "name": "stdout",
     "output_type": "stream",
     "text": [
      "Enter rows:5\n",
      "* * * * * \n",
      "* * * * \n",
      "* * * \n",
      "* * \n",
      "* \n"
     ]
    }
   ],
   "source": [
    "size=int(input(\"Enter rows:\"))  \n",
    "for i in range(0,size):\n",
    "    for j in range(size,i,-1):\n",
    "        print(\"*\",end=\" \")\n",
    "    print()"
   ]
  },
  {
   "cell_type": "code",
   "execution_count": 30,
   "metadata": {},
   "outputs": [
    {
     "name": "stdout",
     "output_type": "stream",
     "text": [
      "Enter rows:6\n",
      "* * * * * * \n",
      "  * * * * * \n",
      "    * * * * \n",
      "      * * * \n",
      "        * * \n",
      "          * \n"
     ]
    }
   ],
   "source": [
    "size=int(input(\"Enter rows:\"))  \n",
    "for i in range(0,size):\n",
    "    for space in range(0,i):\n",
    "        print(\" \",end=\" \")\n",
    "    for j in range(size,i,-1):\n",
    "        print(\"*\",end=\" \")\n",
    "    print()"
   ]
  },
  {
   "cell_type": "code",
   "execution_count": 26,
   "metadata": {},
   "outputs": [
    {
     "name": "stdout",
     "output_type": "stream",
     "text": [
      "Enter rows:10\n",
      "*                                     * \n",
      "* *                                 * * \n",
      "* * *                             * * * \n",
      "* * * *                         * * * * \n",
      "* * * * *                     * * * * * \n",
      "* * * * * *                 * * * * * * \n",
      "* * * * * * *             * * * * * * * \n",
      "* * * * * * * *         * * * * * * * * \n",
      "* * * * * * * * *     * * * * * * * * * \n",
      "* * * * * * * * * * * * * * * * * * * * \n",
      "* * * * * * * * *     * * * * * * * * * \n",
      "* * * * * * * *         * * * * * * * * \n",
      "* * * * * * *             * * * * * * * \n",
      "* * * * * *                 * * * * * * \n",
      "* * * * *                     * * * * * \n",
      "* * * *                         * * * * \n",
      "* * *                             * * * \n",
      "* *                                 * * \n",
      "*                                     * \n"
     ]
    }
   ],
   "source": [
    "size=int(input(\"Enter rows:\"))  \n",
    "for i in range(0,size):\n",
    "    for j in range(0,i+1):\n",
    "        print(\"*\",end=\" \")\n",
    "    for space in range(0,2*(size-i-1)):\n",
    "        print(\" \",end=\" \")\n",
    "    for j in range(0,i+1):\n",
    "        print(\"*\",end=\" \")\n",
    "    print()\n",
    "for i in range(size-1,0,-1):\n",
    "    for j in range(0,i):    \n",
    "        print(\"*\",end=\" \")\n",
    "    for space in range(0,2*(size-i)):\n",
    "        print(\" \",end=\" \")\n",
    "    for k in range(0,i):\n",
    "        print(\"*\",end=\" \")\n",
    "    var=var+1\n",
    "    print()\n",
    "    \n"
   ]
  },
  {
   "cell_type": "code",
   "execution_count": 63,
   "metadata": {},
   "outputs": [
    {
     "name": "stdout",
     "output_type": "stream",
     "text": [
      "Enter rows:4\n",
      "        * \n",
      "      * * * \n",
      "    * * * * * \n",
      "  * * * * * * * \n",
      "    * * * * * \n",
      "      * * * \n",
      "        * \n"
     ]
    }
   ],
   "source": [
    "size=int(input(\"Enter rows:\"))  \n",
    "for i in range(0,size):\n",
    "    for space in range(size,i,-1):\n",
    "        print(\" \",end=\" \")\n",
    "    for j in range(0,i+1):\n",
    "        print(\"*\",end=\" \")\n",
    "    for j in range(0,i):\n",
    "        print(\"*\",end=\" \")\n",
    "    print()\n",
    "for i in range(0,size-1):\n",
    "    for space in range(0,i+2):\n",
    "        print(\" \",end=\" \")\n",
    "    for j in range(size,i+1,-1):\n",
    "        print(\"*\",end=\" \")\n",
    "    for j in range(size,i+2,-1):\n",
    "        print(\"*\",end=\" \")\n",
    "    print()    "
   ]
  },
  {
   "cell_type": "code",
   "execution_count": 12,
   "metadata": {},
   "outputs": [
    {
     "name": "stdout",
     "output_type": "stream",
     "text": [
      "Enter rows:5\n",
      "        1 \n",
      "      2 1 2 \n",
      "    3 2 1 2 3 \n",
      "  4 3 2 1 2 3 4 \n",
      "5 4 3 2 1 2 3 4 5 \n",
      "  4 3 2 1 2 3 4 \n",
      "    3 2 1 2 3 \n",
      "      2 1 2 \n",
      "        1 \n"
     ]
    }
   ],
   "source": [
    "size=int(input(\"Enter rows:\"))  \n",
    "for i in range(1,size+1):\n",
    "    for space in range(size,i,-1):\n",
    "        print(\" \",end=\" \")\n",
    "    for j in range(i,0,-1):\n",
    "        print(j,end=\" \")\n",
    "    for j in range(2,i+1):\n",
    "        print(j,end=\" \")\n",
    "    print()\n",
    "for i in range(size-1,0,-1):\n",
    "    for space in range(0,size-i):\n",
    "        print(\" \", end=\" \")\n",
    "    for j in range(i,0,-1):\n",
    "        print(j,end=\" \")\n",
    "    for j in range(2,i+1):\n",
    "        print(j,end=\" \")\n",
    "    print()"
   ]
  },
  {
   "cell_type": "code",
   "execution_count": 46,
   "metadata": {},
   "outputs": [
    {
     "name": "stdout",
     "output_type": "stream",
     "text": [
      "Enter size :4\n",
      "* * * * *         * \n",
      "        *         * \n",
      "        *         * \n",
      "        *         * \n",
      "* * * * * * * * * * \n",
      "*       * \n",
      "*       * \n",
      "*       * * * * * * \n"
     ]
    }
   ],
   "source": [
    "size=int(input(\"Enter size :\" ))\n",
    "for i in range(0,size*2):\n",
    "    if(i==0):\n",
    "        for j in range(0,size+1):\n",
    "            print(\"*\",end=\" \")\n",
    "        for space in range(0,size):\n",
    "            print(\" \",end=\" \")\n",
    "        print(\"*\",end=\" \")\n",
    "    elif(i==2*size-1):\n",
    "        print(\"*\",end=\" \")\n",
    "        for j in range(0,size-1):\n",
    "            print(\" \",end=\" \")\n",
    "        print(\"*\",end=\" \")\n",
    "        for k in range(0,size+1):\n",
    "            print(\"*\",end=\" \")\n",
    "    elif(i!=size and i<size):\n",
    "        for j in range(0,size):\n",
    "            print(\" \",end=\" \")\n",
    "        print(\"*\",end=\" \")\n",
    "        for j in range(0,size):\n",
    "            print(\" \",end=\" \")\n",
    "        print(\"*\",end=\" \")\n",
    "    elif(i>size):\n",
    "        print(\"*\",end=\" \")\n",
    "        for j in range(0,size-1):\n",
    "            print(\" \",end=\" \")\n",
    "        print(\"*\",end=\" \")\n",
    "    else:\n",
    "        for j in range(0,2*size+2):\n",
    "            print(\"*\",end=\" \")\n",
    "    print()"
   ]
  },
  {
   "cell_type": "code",
   "execution_count": 77,
   "metadata": {},
   "outputs": [
    {
     "name": "stdout",
     "output_type": "stream",
     "text": [
      "Enter size :4\n",
      "8 7 6 5 4 3 2 1 \n",
      "  7 6 5 4 3 2 1 \n",
      "    6 5 4 3 2 1 \n",
      "      5 4 3 2 1 \n",
      "        4 3 2 1 \n",
      "          3 2 1 \n",
      "            2 1 \n",
      "              1 \n",
      "            2 1 \n",
      "          3 2 1 \n",
      "        4 3 2 1 \n",
      "      5 4 3 2 1 \n",
      "    6 5 4 3 2 1 \n",
      "  7 6 5 4 3 2 1 \n",
      "8 7 6 5 4 3 2 1 \n"
     ]
    }
   ],
   "source": [
    "size=int(input(\"Enter size :\" ))\n",
    "\n",
    "for i in range(0,size*2):\n",
    "    for space in range(0,i):\n",
    "        print(\" \",end=\" \")\n",
    "    for j in range(size*2-i,0,-1):\n",
    "        print(j,end=\" \")\n",
    "    print()\n",
    "for i in range(1,size*2):\n",
    "    for space in range(2*size-i-1,0,-1):\n",
    "        print(\" \",end=\" \")\n",
    "    for j in range(i+1,0,-1):\n",
    "        print(j,end=\" \")\n",
    "    print()"
   ]
  },
  {
   "cell_type": "code",
   "execution_count": 83,
   "metadata": {},
   "outputs": [
    {
     "name": "stdout",
     "output_type": "stream",
     "text": [
      "Enter size :8\n",
      "8   7   6   5   4   3   2   1   \n",
      "  7   6   5   4   3   2   1   \n",
      "    6   5   4   3   2   1   \n",
      "      5   4   3   2   1   \n",
      "        4   3   2   1   \n",
      "          3   2   1   \n",
      "            2   1   \n",
      "              1   \n",
      "            2   1   \n",
      "          3   2   1   \n",
      "        4   3   2   1   \n",
      "      5   4   3   2   1   \n",
      "    6   5   4   3   2   1   \n",
      "  7   6   5   4   3   2   1   \n",
      "8   7   6   5   4   3   2   1   \n"
     ]
    }
   ],
   "source": [
    "size=int(input(\"Enter size :\" ))\n",
    "for i in range(1,size+1):\n",
    "    for j in range(1,i):\n",
    "        print(\" \",end=\" \")\n",
    "    for k in range(size-i+1,0,-1):\n",
    "        print(k,\" \",end=\" \")\n",
    "    print()\n",
    "for i in range(1,size):\n",
    "    for j in range(1,size-i):\n",
    "        print(\" \",end=\" \")\n",
    "    for k in range(i+1,0,-1):\n",
    "        print(k,\" \",end=\" \")\n",
    "    print()"
   ]
  },
  {
   "cell_type": "code",
   "execution_count": 95,
   "metadata": {},
   "outputs": [
    {
     "name": "stdout",
     "output_type": "stream",
     "text": [
      "Enter size :6\n",
      "            1   \n",
      "          1   1   \n",
      "        1   2   1   \n",
      "      1   3   3   1   \n",
      "    1   4   6   4   1   \n",
      "  1   5   10   10   5   1   \n"
     ]
    }
   ],
   "source": [
    "        \n",
    "def calFact(val):\n",
    "    fact=1\n",
    "    for i in range(1,val+1):\n",
    "        fact=fact*i\n",
    "    return fact\n",
    "\n",
    "size=int(input(\"Enter size :\" ))\n",
    "for i in range(0,size):\n",
    "    n=calFact(i)\n",
    "    for space in range(size,i,-1):\n",
    "        print(\" \",end=\" \")\n",
    "    for j in range(0,i+1):\n",
    "        r=calFact(j)\n",
    "        n_minus_r=calFact(i-j)\n",
    "        ncr=n//(r*n_minus_r)\n",
    "        print(ncr,\" \",end=\" \")\n",
    "    print()\n",
    "        \n",
    "# YOu can use math class-->import math then use math.factorial"
   ]
  },
  {
   "cell_type": "code",
   "execution_count": 106,
   "metadata": {},
   "outputs": [
    {
     "name": "stdout",
     "output_type": "stream",
     "text": [
      "Enter size :5\n",
      "A \n",
      "A B \n",
      "A B C \n",
      "A B C D \n",
      "A B C D E \n"
     ]
    }
   ],
   "source": [
    "# chr(ascii)--> asci to char\n",
    "# ord(char)-->char to ascii\n",
    "size=int(input(\"Enter size :\" ))\n",
    "for i in range (0,size):\n",
    "    start=65\n",
    "    for j in range(0,i+1):\n",
    "        print(chr(start),end=\" \")\n",
    "        start=start+1\n",
    "    print()"
   ]
  },
  {
   "cell_type": "code",
   "execution_count": 2,
   "metadata": {},
   "outputs": [
    {
     "name": "stdout",
     "output_type": "stream",
     "text": [
      "Enter current hour : 12\n",
      "Enter am/pm : pm\n",
      "Enter the number of hours after you want to see the time :4\n",
      "Time after : 4 pm\n"
     ]
    }
   ],
   "source": [
    "current_hour=int(input(\"Enter current hour : \"))\n",
    "am_pm=input(\"Enter am/pm : \")\n",
    "\n",
    "gap_hours=int(input(\"Enter the number of hours after you want to see the time :\"))\n",
    "gap_hours=gap_hours%24\n",
    "time_after=current_hour\n",
    "if(current_hour==12 and gap_hours!=0):\n",
    "    if(am_pm==\"pm\"):\n",
    "        am_pm=\"am\"\n",
    "    else:\n",
    "        am_pm=\"pm\"\n",
    "while(gap_hours>0):\n",
    "    if(time_after==12):\n",
    "        time_after=1\n",
    "        if(am_pm==\"pm\"):\n",
    "            am_pm=\"am\"\n",
    "        else:\n",
    "            am_pm=\"pm\"\n",
    "    else:\n",
    "        time_after+=1\n",
    "    gap_hours-=1\n",
    "\n",
    "print(\"Time after :\",time_after,am_pm)"
   ]
  }
 ],
 "metadata": {
  "kernelspec": {
   "display_name": "Python 3",
   "language": "python",
   "name": "python3"
  },
  "language_info": {
   "codemirror_mode": {
    "name": "ipython",
    "version": 3
   },
   "file_extension": ".py",
   "mimetype": "text/x-python",
   "name": "python",
   "nbconvert_exporter": "python",
   "pygments_lexer": "ipython3",
   "version": "3.8.5"
  }
 },
 "nbformat": 4,
 "nbformat_minor": 4
}
