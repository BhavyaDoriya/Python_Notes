{
 "cells": [
  {
   "cell_type": "code",
   "execution_count": 5,
   "metadata": {},
   "outputs": [
    {
     "name": "stdout",
     "output_type": "stream",
     "text": [
      "Enter marks of student: 80\n",
      "Press Q to stop/Press any other key to continue : df\n",
      "Enter marks of student: 60\n",
      "Press Q to stop/Press any other key to continue : f\n",
      "Enter marks of student: 70\n",
      "Press Q to stop/Press any other key to continue : g\n",
      "Enter marks of student: 40\n",
      "Press Q to stop/Press any other key to continue : f\n",
      "Enter marks of student: 50\n",
      "Press Q to stop/Press any other key to continue : f\n",
      "Enter marks of student: 45\n",
      "Press Q to stop/Press any other key to continue : Q\n",
      "max=80.0,min=40.0,second max=70.0,second min=45.0,avg=57.5\n"
     ]
    }
   ],
   "source": [
    "max=-1\n",
    "min=-1\n",
    "avg=0\n",
    "sum=0\n",
    "count=0\n",
    "secondmax=-1\n",
    "secondmin=-1\n",
    "while(True):\n",
    "    marks=float(input(\"Enter marks of student: \"))\n",
    "    if(marks>max):\n",
    "        secondmax=max\n",
    "        max=marks\n",
    "    elif(marks>secondmax and secondmax!=max):\n",
    "        secondmax=marks\n",
    "        \n",
    "    if(count==0):\n",
    "        min=marks\n",
    "        secondmin=min\n",
    "\n",
    "    elif(marks<min):\n",
    "        min=marks\n",
    "    elif(marks<secondmin and secondmin!=min):\n",
    "        secondmin=marks\n",
    "    sum=sum+marks\n",
    "    count=count+1\n",
    "    \n",
    "    choice=input(\"Press Q to stop/Press any other key to continue : \")\n",
    "    if(choice==\"Q\"):\n",
    "        avg=sum/count\n",
    "        print(f\"max={max},min={min},second max={secondmax},second min={secondmin},avg={avg}\")\n",
    "        break\n",
    "\n",
    "#     80 60 70 40 50 45"
   ]
  },
  {
   "cell_type": "code",
   "execution_count": 25,
   "metadata": {},
   "outputs": [
    {
     "name": "stdout",
     "output_type": "stream",
     "text": [
      "Enter rows:5\n",
      "* * * * * \n",
      "* * * * * \n",
      "* * * * * \n",
      "* * * * * \n",
      "* * * * * \n"
     ]
    }
   ],
   "source": [
    "n=int(input(\"Enter rows:\"))\n",
    "for i in range(1,n+1):\n",
    "    for j in range(1,n+1):\n",
    "        print(\"*\",end=\" \")\n",
    "        \n",
    "    print()\n",
    "    "
   ]
  },
  {
   "cell_type": "code",
   "execution_count": 23,
   "metadata": {},
   "outputs": [
    {
     "name": "stdout",
     "output_type": "stream",
     "text": [
      "Enter rows:5\n",
      "* \n",
      "* * \n",
      "* * * \n",
      "* * * * \n",
      "* * * * * \n"
     ]
    }
   ],
   "source": [
    "\n",
    "size=int(input(\"Enter rows:\"))  \n",
    "for i in range(0,size):\n",
    "    for j in range(0,i+1):\n",
    "        print(\"*\",end=\" \")\n",
    "    print()"
   ]
  },
  {
   "cell_type": "code",
   "execution_count": 26,
   "metadata": {},
   "outputs": [
    {
     "name": "stdout",
     "output_type": "stream",
     "text": [
      "Enter rows:5\n",
      "            * \n",
      "          * * \n",
      "        * * * \n",
      "      * * * * \n",
      "    * * * * * \n"
     ]
    }
   ],
   "source": [
    "\n",
    "size=int(input(\"Enter rows:\"))  \n",
    "for i in range(0,size):\n",
    "    for space in range(size,i-1,-1):\n",
    "        print(\" \",end=\" \")\n",
    "    for j in range(0,i+1):\n",
    "        print(\"*\",end=\" \")\n",
    "    print()"
   ]
  },
  {
   "cell_type": "code",
   "execution_count": 28,
   "metadata": {},
   "outputs": [
    {
     "name": "stdout",
     "output_type": "stream",
     "text": [
      "Enter rows:5\n",
      "* * * * * \n",
      "* * * * \n",
      "* * * \n",
      "* * \n",
      "* \n"
     ]
    }
   ],
   "source": [
    "size=int(input(\"Enter rows:\"))  \n",
    "for i in range(0,size):\n",
    "    for j in range(size,i,-1):\n",
    "        print(\"*\",end=\" \")\n",
    "    print()"
   ]
  },
  {
   "cell_type": "code",
   "execution_count": 30,
   "metadata": {},
   "outputs": [
    {
     "name": "stdout",
     "output_type": "stream",
     "text": [
      "Enter rows:6\n",
      "* * * * * * \n",
      "  * * * * * \n",
      "    * * * * \n",
      "      * * * \n",
      "        * * \n",
      "          * \n"
     ]
    }
   ],
   "source": [
    "size=int(input(\"Enter rows:\"))  \n",
    "for i in range(0,size):\n",
    "    for space in range(0,i):\n",
    "        print(\" \",end=\" \")\n",
    "    for j in range(size,i,-1):\n",
    "        print(\"*\",end=\" \")\n",
    "    print()"
   ]
  },
  {
   "cell_type": "code",
   "execution_count": 41,
   "metadata": {},
   "outputs": [
    {
     "name": "stdout",
     "output_type": "stream",
     "text": [
      "Enter rows:3\n",
      "*         * \n",
      "* *     * * \n",
      "* * * * * * \n"
     ]
    }
   ],
   "source": [
    "size=int(input(\"Enter rows:\"))  \n",
    "for i in range(0,size):\n",
    "    for j in range(0,i+1):\n",
    "        print(\"*\",end=\" \")\n",
    "    for space in range(0,2*(size-i-1)):\n",
    "        print(\" \",end=\" \")\n",
    "    for j in range(0,i+1):\n",
    "        print(\"*\",end=\" \")\n",
    "    print()\n",
    "    \n",
    "# size=int(input(\"Enter rows:\"))  \n",
    "# for i in range(size,1,-1):\n",
    "#     for j in range(0,i+1):\n",
    "#         print(\"*\",end=\" \")\n",
    "#     for space in range(0,2*(size-i-1)):\n",
    "#         print(\" \",end=\" \")\n",
    "#     for j in range(0,i+1):\n",
    "#         print(\"*\",end=\" \")\n",
    "#     print()\n",
    "for i in range(0,size-1):\n",
    "    for j in range()"
   ]
  },
  {
   "cell_type": "code",
   "execution_count": 63,
   "metadata": {},
   "outputs": [
    {
     "name": "stdout",
     "output_type": "stream",
     "text": [
      "Enter rows:4\n",
      "        * \n",
      "      * * * \n",
      "    * * * * * \n",
      "  * * * * * * * \n",
      "    * * * * * \n",
      "      * * * \n",
      "        * \n"
     ]
    }
   ],
   "source": [
    "size=int(input(\"Enter rows:\"))  \n",
    "for i in range(0,size):\n",
    "    for space in range(size,i,-1):\n",
    "        print(\" \",end=\" \")\n",
    "    for j in range(0,i+1):\n",
    "        print(\"*\",end=\" \")\n",
    "    for j in range(0,i):\n",
    "        print(\"*\",end=\" \")\n",
    "    print()\n",
    "for i in range(0,size-1):\n",
    "    for space in range(0,i+2):\n",
    "        print(\" \",end=\" \")\n",
    "    for j in range(size,i+1,-1):\n",
    "        print(\"*\",end=\" \")\n",
    "    for j in range(size,i+2,-1):\n",
    "        print(\"*\",end=\" \")\n",
    "    print()    "
   ]
  },
  {
   "cell_type": "code",
   "execution_count": 67,
   "metadata": {},
   "outputs": [
    {
     "name": "stdout",
     "output_type": "stream",
     "text": [
      "Enter rows:4\n",
      "      1 \n",
      "    2 1 2 \n",
      "  3 2 1 2 3 \n",
      "4 3 2 1 2 3 4 \n",
      "      3 2 1 \n",
      "        3 2 2 \n",
      "          3 2 3 \n"
     ]
    }
   ],
   "source": [
    "size=int(input(\"Enter rows:\"))  \n",
    "for i in range(1,size+1):\n",
    "    for space in range(size,i,-1):\n",
    "        print(\" \",end=\" \")\n",
    "    for j in range(i,0,-1):\n",
    "        print(j,end=\" \")\n",
    "    for j in range(2,i+1):\n",
    "        print(j,end=\" \")\n",
    "    print()\n",
    "for i in range(1,size):\n",
    "    for space in range(0,i+2):\n",
    "        print(\" \",end=\" \")\n",
    "    for j in range(size-1,i-1,-1):\n",
    "        print(j,end=\" \")\n",
    "    for j in range(2,i+1):\n",
    "        print(j,end=\" \")\n",
    "    print()    "
   ]
  }
 ],
 "metadata": {
  "kernelspec": {
   "display_name": "Python 3",
   "language": "python",
   "name": "python3"
  },
  "language_info": {
   "codemirror_mode": {
    "name": "ipython",
    "version": 3
   },
   "file_extension": ".py",
   "mimetype": "text/x-python",
   "name": "python",
   "nbconvert_exporter": "python",
   "pygments_lexer": "ipython3",
   "version": "3.8.5"
  }
 },
 "nbformat": 4,
 "nbformat_minor": 4
}
