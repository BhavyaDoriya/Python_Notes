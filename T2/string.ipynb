{
 "cells": [
  {
   "cell_type": "code",
   "execution_count": 14,
   "metadata": {},
   "outputs": [
    {
     "name": "stdout",
     "output_type": "stream",
     "text": [
      "B1 is best\n",
      "1952002350512\n",
      "i\n",
      "1951934444080\n",
      "1951929013488\n"
     ]
    }
   ],
   "source": [
    "s='B1 is best'\n",
    "print(s)\n",
    "print(id(s))#address of variable\n",
    "print(s[3])\n",
    "print(id(s[0]))\n",
    "print(id(s[1]))"
   ]
  },
  {
   "cell_type": "code",
   "execution_count": 17,
   "metadata": {},
   "outputs": [
    {
     "name": "stdout",
     "output_type": "stream",
     "text": [
      "w\n",
      "co\n",
      "welcome\n",
      "elc\n"
     ]
    }
   ],
   "source": [
    "# Negative indexing\n",
    "print(s[-7])\n",
    "# Slicing\n",
    "# syntax= s[start:end:step]\n",
    "print(s[3:5])\n",
    "s=\"welcome\"\n",
    "print(s[:])\n",
    "print(s[1:4])"
   ]
  },
  {
   "cell_type": "code",
   "execution_count": 28,
   "metadata": {},
   "outputs": [
    {
     "name": "stdout",
     "output_type": "stream",
     "text": [
      "B sBs\n",
      "tseB si 1B\n",
      "tseB\n",
      "tseB\n",
      "\n"
     ]
    }
   ],
   "source": [
    "x='B1 is Best'\n",
    "print(x[::2])\n",
    "print(x[::-1])\n",
    "print(x[9:5:-1])\n",
    "print(x[-1:-5:-1])\n",
    "print(x[-7:1])"
   ]
  },
  {
   "cell_type": "code",
   "execution_count": 29,
   "metadata": {},
   "outputs": [
    {
     "name": "stdout",
     "output_type": "stream",
     "text": [
      "Enter a string:343\n",
      "palindrome\n"
     ]
    }
   ],
   "source": [
    "s1=input(\"Enter a string:\")\n",
    "if(s1==s1[::-1]):\n",
    "    print(\"palindrome\")\n",
    "else:\n",
    "    print(\"not palindrome\")\n",
    "    "
   ]
  },
  {
   "cell_type": "code",
   "execution_count": 36,
   "metadata": {},
   "outputs": [
    {
     "name": "stdout",
     "output_type": "stream",
     "text": [
      "VHA:10\n"
     ]
    }
   ],
   "source": [
    "# String is immutable\n",
    "s2=\"VHA-10\"\n",
    "# s2[3]=':'  -->error-->'str' object does not support item assignment\n",
    "s2=s2[0:3]+\":\"+s2[4:]\n",
    "print(s2)\n",
    "del s2\n",
    "# print(s2) -->error-->NameError: name 's2' is not defined"
   ]
  },
  {
   "cell_type": "code",
   "execution_count": 46,
   "metadata": {},
   "outputs": [
    {
     "name": "stdout",
     "output_type": "stream",
     "text": [
      "xy\n",
      "xyxyxyxyxyxyxyxyxyxyxyxyxyxyxyxyxyxyxyxy\n",
      "False\n",
      "True\n",
      "True\n",
      "False\n",
      "True\n"
     ]
    }
   ],
   "source": [
    "# Arithmatic operation in Strings\n",
    "a=\"x\"\n",
    "b=\"y\"\n",
    "c=a+b\n",
    "print(c)\n",
    "c=c*20\n",
    "print(c)\n",
    "print(\"Bhavya\"==\"bhavya\")\n",
    "print(\"Bhavya\"==\"Bhavya\")\n",
    "print(\"abc\"<\"def\")\n",
    "\n",
    "# Membership operator\n",
    "print(\"b\" in \"Bhavya\")\n",
    "print(\"B\" in \"Bhavya\")"
   ]
  },
  {
   "cell_type": "code",
   "execution_count": 58,
   "metadata": {},
   "outputs": [
    {
     "name": "stdout",
     "output_type": "stream",
     "text": [
      "0 --> w\n",
      "1 --> e\n",
      "2 --> l\n",
      "3 --> c\n",
      "4 --> o\n",
      "5 --> m\n",
      "6 --> e\n",
      "\n",
      "wloe\n",
      "0 --> w\n",
      "1 --> e\n",
      "2 --> l\n",
      "3 --> c\n",
      "4 --> o\n",
      "5 --> m\n",
      "6 --> e\n"
     ]
    }
   ],
   "source": [
    "x=\"welcome\"\n",
    "\n",
    "for i in range(0,len(x)):\n",
    "    print(i,\"-->\",s[i])\n",
    "print()    \n",
    "for i in x[::2]:\n",
    "    print(i,end=\"\")\n",
    "print()\n",
    "for index,char in enumerate(x):\n",
    "    print(index,\"-->\",char)"
   ]
  },
  {
   "cell_type": "code",
   "execution_count": 60,
   "metadata": {},
   "outputs": [
    {
     "data": {
      "text/plain": [
       "<enumerate at 0x1c67c6698c0>"
      ]
     },
     "execution_count": 60,
     "metadata": {},
     "output_type": "execute_result"
    }
   ],
   "source": [
    "enumerate(x)\n"
   ]
  },
  {
   "cell_type": "code",
   "execution_count": 66,
   "metadata": {},
   "outputs": [
    {
     "name": "stdout",
     "output_type": "stream",
     "text": [
      "Enter string 1:whatdahell\n",
      "Enter string 2:hellwhatda\n",
      "Balanced\n"
     ]
    }
   ],
   "source": [
    "# check s1 has all characters of s2 and s2 has all characters of s1\n",
    "s1=input(\"Enter string 1:\")\n",
    "s2=input(\"Enter string 2:\")\n",
    "for i in s1:\n",
    "    if i not in s2:\n",
    "        print(\"not balance\")\n",
    "        break\n",
    "else:\n",
    "    for i in s2:\n",
    "        if i not in s1:\n",
    "            print(\"Not balance\")\n",
    "            break\n",
    "    else:\n",
    "        print(\"Balanced\")"
   ]
  },
  {
   "cell_type": "code",
   "execution_count": 72,
   "metadata": {},
   "outputs": [
    {
     "name": "stdout",
     "output_type": "stream",
     "text": [
      "Enter string 1:1234567891\n",
      "1\n",
      "2\n",
      "3\n",
      "4\n",
      "5\n",
      "do you want continue?(y/n)y\n",
      "6\n",
      "7\n",
      "8\n",
      "9\n",
      "1\n",
      "do you want continue?(y/n)n\n"
     ]
    }
   ],
   "source": [
    "s1=input(\"Enter string 1:\")\n",
    "for i in s1[:5]:\n",
    "    print(i)\n",
    "else:\n",
    "    continueIndex=5\n",
    "    while(True):\n",
    "        takeInput=input(\"do you want continue?(y/n)\")\n",
    "        if(takeInput==\"y\" or takeInput==\"y\"):\n",
    "            for i in range(continueIndex,continueIndex+5):\n",
    "                print(s1[i])\n",
    "            continueIndex=continueIndex+5\n",
    "        else:\n",
    "            break"
   ]
  },
  {
   "cell_type": "code",
   "execution_count": 74,
   "metadata": {},
   "outputs": [
    {
     "name": "stdout",
     "output_type": "stream",
     "text": [
      "['w', 'o', 'm', 'l', 'e', 'e', 'c']\n"
     ]
    }
   ],
   "source": [
    "s=\"welcome\"\n",
    "print(sorted(s,reverse=True))"
   ]
  },
  {
   "cell_type": "code",
   "execution_count": 83,
   "metadata": {},
   "outputs": [
    {
     "name": "stdout",
     "output_type": "stream",
     "text": [
      "['__add__', '__class__', '__contains__', '__delattr__', '__dir__', '__doc__', '__eq__', '__format__', '__ge__', '__getattribute__', '__getitem__', '__getnewargs__', '__gt__', '__hash__', '__init__', '__init_subclass__', '__iter__', '__le__', '__len__', '__lt__', '__mod__', '__mul__', '__ne__', '__new__', '__reduce__', '__reduce_ex__', '__repr__', '__rmod__', '__rmul__', '__setattr__', '__sizeof__', '__str__', '__subclasshook__', 'capitalize', 'casefold', 'center', 'count', 'encode', 'endswith', 'expandtabs', 'find', 'format', 'format_map', 'index', 'isalnum', 'isalpha', 'isascii', 'isdecimal', 'isdigit', 'isidentifier', 'islower', 'isnumeric', 'isprintable', 'isspace', 'istitle', 'isupper', 'join', 'ljust', 'lower', 'lstrip', 'maketrans', 'partition', 'replace', 'rfind', 'rindex', 'rjust', 'rpartition', 'rsplit', 'rstrip', 'split', 'splitlines', 'startswith', 'strip', 'swapcase', 'title', 'translate', 'upper', 'zfill']\n"
     ]
    }
   ],
   "source": [
    "# capitalize,title,swapcase,upper,lower,count,find,rfind,index,rindex,startswith,endswith,isupper,islower,isspace,istitle,\n",
    "# isdigit,isnumeric,isidentifier,replace,join,split,translate,maketrans,isalnum,strip,lstrip,rstrip\n",
    "import string\n",
    "s=\"hello idiot\"\n",
    "print(dir(s))\n"
   ]
  },
  {
   "cell_type": "code",
   "execution_count": 90,
   "metadata": {},
   "outputs": [
    {
     "data": {
      "text/plain": [
       "'hello idiot'"
      ]
     },
     "execution_count": 90,
     "metadata": {},
     "output_type": "execute_result"
    }
   ],
   "source": [
    "s.capitalize()\n",
    "s.title()\n",
    "s.swapcase()\n",
    "s.upper()\n",
    "s.lower()"
   ]
  },
  {
   "cell_type": "code",
   "execution_count": 97,
   "metadata": {},
   "outputs": [
    {
     "name": "stdout",
     "output_type": "stream",
     "text": [
      "Give me a string: thjeiswjre\n",
      "ThjeiswjrE\n"
     ]
    }
   ],
   "source": [
    "i=input(\"Give me a string: \")\n",
    "i=i.title()\n",
    "i=i[:len(i)-1]+i[len(i)-1].upper()\n",
    "indexOfFirstSpace=0\n",
    "for j in i:\n",
    "    if(j==\" \"):\n",
    "        break\n",
    "    indexOfFirstSpace=indexOfFirstSpace+1\n",
    "i=i[:indexOfFirstSpace-1]+i[indexOfFirstSpace-1].upper()+i[indexOfFirstSpace:]\n",
    "print(i)"
   ]
  },
  {
   "cell_type": "code",
   "execution_count": 102,
   "metadata": {},
   "outputs": [
    {
     "data": {
      "text/plain": [
       "0"
      ]
     },
     "execution_count": 102,
     "metadata": {},
     "output_type": "execute_result"
    }
   ],
   "source": [
    "s=\"apple mango apple mango apple mango apple\"\n",
    "s.count(\"apple\")\n",
    "s.count('a')\n",
    "s.count(\"apple\",1,len(s))\n",
    "s.count(\"Z\")"
   ]
  },
  {
   "cell_type": "code",
   "execution_count": 111,
   "metadata": {},
   "outputs": [
    {
     "data": {
      "text/plain": [
       "-1"
      ]
     },
     "execution_count": 111,
     "metadata": {},
     "output_type": "execute_result"
    }
   ],
   "source": [
    "# This method gives position of first occurance of the given substring in parent string \n",
    "s.find(\"apple\")\n",
    "s.find(\"z\") #will return -1\n",
    "\n",
    "# This method gives position of last occurance of the given substring in parent string \n",
    "s.rfind(\"apple\")\n",
    "s.rfind(\"apple\",1,36)\n",
    "s.rfind(\"Z\")\n",
    "\n",
    "# index and rindex methods are also same but they give error when such substring is not found in parent string"
   ]
  },
  {
   "cell_type": "code",
   "execution_count": 116,
   "metadata": {},
   "outputs": [
    {
     "data": {
      "text/plain": [
       "False"
      ]
     },
     "execution_count": 116,
     "metadata": {},
     "output_type": "execute_result"
    }
   ],
   "source": [
    "s=\"b1 is best\"\n",
    "s.startswith(\"b1\")\n",
    "s=\"VHA10\"\n",
    "s.isalnum()#is alpha or numeric? 0-9,A-Z,a-z\n",
    "s=\"VHA 10\"\n",
    "s.isalnum()"
   ]
  },
  {
   "cell_type": "code",
   "execution_count": 127,
   "metadata": {},
   "outputs": [
    {
     "data": {
      "text/plain": [
       "True"
      ]
     },
     "execution_count": 127,
     "metadata": {},
     "output_type": "execute_result"
    }
   ],
   "source": [
    "s=\"Vh Bhavya\"\n",
    "s.isupper()\n",
    "s.islower()\n",
    "s.isspace()\n",
    "s.istitle()"
   ]
  }
 ],
 "metadata": {
  "kernelspec": {
   "display_name": "Python 3",
   "language": "python",
   "name": "python3"
  },
  "language_info": {
   "codemirror_mode": {
    "name": "ipython",
    "version": 3
   },
   "file_extension": ".py",
   "mimetype": "text/x-python",
   "name": "python",
   "nbconvert_exporter": "python",
   "pygments_lexer": "ipython3",
   "version": "3.8.5"
  }
 },
 "nbformat": 4,
 "nbformat_minor": 4
}
