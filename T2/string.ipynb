{
 "cells": [
  {
   "cell_type": "code",
   "execution_count": 14,
   "metadata": {},
   "outputs": [
    {
     "name": "stdout",
     "output_type": "stream",
     "text": [
      "B1 is best\n",
      "1952002350512\n",
      "i\n",
      "1951934444080\n",
      "1951929013488\n"
     ]
    }
   ],
   "source": [
    "s='B1 is best'\n",
    "print(s)\n",
    "print(id(s))#address of variable\n",
    "print(s[3])\n",
    "print(id(s[0]))\n",
    "print(id(s[1]))"
   ]
  },
  {
   "cell_type": "code",
   "execution_count": 17,
   "metadata": {},
   "outputs": [
    {
     "name": "stdout",
     "output_type": "stream",
     "text": [
      "w\n",
      "co\n",
      "welcome\n",
      "elc\n"
     ]
    }
   ],
   "source": [
    "# Negative indexing\n",
    "print(s[-7])\n",
    "# Slicing\n",
    "# syntax= s[start:end:step]\n",
    "print(s[3:5])\n",
    "s=\"welcome\"\n",
    "print(s[:])\n",
    "print(s[1:4])"
   ]
  },
  {
   "cell_type": "code",
   "execution_count": 28,
   "metadata": {},
   "outputs": [
    {
     "name": "stdout",
     "output_type": "stream",
     "text": [
      "B sBs\n",
      "tseB si 1B\n",
      "tseB\n",
      "tseB\n",
      "\n"
     ]
    }
   ],
   "source": [
    "x='B1 is Best'\n",
    "print(x[::2])\n",
    "print(x[::-1])\n",
    "print(x[9:5:-1])\n",
    "print(x[-1:-5:-1])\n",
    "print(x[-7:1])"
   ]
  },
  {
   "cell_type": "code",
   "execution_count": 29,
   "metadata": {},
   "outputs": [
    {
     "name": "stdout",
     "output_type": "stream",
     "text": [
      "Enter a string:343\n",
      "palindrome\n"
     ]
    }
   ],
   "source": [
    "s1=input(\"Enter a string:\")\n",
    "if(s1==s1[::-1]):\n",
    "    print(\"palindrome\")\n",
    "else:\n",
    "    print(\"not palindrome\")\n",
    "    "
   ]
  },
  {
   "cell_type": "code",
   "execution_count": 36,
   "metadata": {},
   "outputs": [
    {
     "name": "stdout",
     "output_type": "stream",
     "text": [
      "VHA:10\n"
     ]
    }
   ],
   "source": [
    "# String is immutable\n",
    "s2=\"VHA-10\"\n",
    "# s2[3]=':'  -->error-->'str' object does not support item assignment\n",
    "s2=s2[0:3]+\":\"+s2[4:]\n",
    "print(s2)\n",
    "del s2\n",
    "# print(s2) -->error-->NameError: name 's2' is not defined"
   ]
  },
  {
   "cell_type": "code",
   "execution_count": 46,
   "metadata": {},
   "outputs": [
    {
     "name": "stdout",
     "output_type": "stream",
     "text": [
      "xy\n",
      "xyxyxyxyxyxyxyxyxyxyxyxyxyxyxyxyxyxyxyxy\n",
      "False\n",
      "True\n",
      "True\n",
      "False\n",
      "True\n"
     ]
    }
   ],
   "source": [
    "# Arithmatic operation in Strings\n",
    "a=\"x\"\n",
    "b=\"y\"\n",
    "c=a+b\n",
    "print(c)\n",
    "c=c*20\n",
    "print(c)\n",
    "print(\"Bhavya\"==\"bhavya\")\n",
    "print(\"Bhavya\"==\"Bhavya\")\n",
    "print(\"abc\"<\"def\")\n",
    "\n",
    "# Membership operator\n",
    "print(\"b\" in \"Bhavya\")\n",
    "print(\"B\" in \"Bhavya\")"
   ]
  },
  {
   "cell_type": "code",
   "execution_count": 58,
   "metadata": {},
   "outputs": [
    {
     "name": "stdout",
     "output_type": "stream",
     "text": [
      "0 --> w\n",
      "1 --> e\n",
      "2 --> l\n",
      "3 --> c\n",
      "4 --> o\n",
      "5 --> m\n",
      "6 --> e\n",
      "\n",
      "wloe\n",
      "0 --> w\n",
      "1 --> e\n",
      "2 --> l\n",
      "3 --> c\n",
      "4 --> o\n",
      "5 --> m\n",
      "6 --> e\n"
     ]
    }
   ],
   "source": [
    "x=\"welcome\"\n",
    "\n",
    "for i in range(0,len(x)):\n",
    "    print(i,\"-->\",s[i])\n",
    "print()    \n",
    "for i in x[::2]:\n",
    "    print(i,end=\"\")\n",
    "print()\n",
    "for index,char in enumerate(x):\n",
    "    print(index,\"-->\",char)"
   ]
  },
  {
   "cell_type": "code",
   "execution_count": 60,
   "metadata": {},
   "outputs": [
    {
     "data": {
      "text/plain": [
       "<enumerate at 0x1c67c6698c0>"
      ]
     },
     "execution_count": 60,
     "metadata": {},
     "output_type": "execute_result"
    }
   ],
   "source": [
    "enumerate(x)\n"
   ]
  },
  {
   "cell_type": "code",
   "execution_count": 66,
   "metadata": {},
   "outputs": [
    {
     "name": "stdout",
     "output_type": "stream",
     "text": [
      "Enter string 1:whatdahell\n",
      "Enter string 2:hellwhatda\n",
      "Balanced\n"
     ]
    }
   ],
   "source": [
    "# check s1 has all characters of s2 and s2 has all characters of s1\n",
    "s1=input(\"Enter string 1:\")\n",
    "s2=input(\"Enter string 2:\")\n",
    "for i in s1:\n",
    "    if i not in s2:\n",
    "        print(\"not balance\")\n",
    "        break\n",
    "else:\n",
    "    for i in s2:\n",
    "        if i not in s1:\n",
    "            print(\"Not balance\")\n",
    "            break\n",
    "    else:\n",
    "        print(\"Balanced\")"
   ]
  },
  {
   "cell_type": "code",
   "execution_count": 72,
   "metadata": {},
   "outputs": [
    {
     "name": "stdout",
     "output_type": "stream",
     "text": [
      "Enter string 1:1234567891\n",
      "1\n",
      "2\n",
      "3\n",
      "4\n",
      "5\n",
      "do you want continue?(y/n)y\n",
      "6\n",
      "7\n",
      "8\n",
      "9\n",
      "1\n",
      "do you want continue?(y/n)n\n"
     ]
    }
   ],
   "source": [
    "s1=input(\"Enter string 1:\")\n",
    "for i in s1[:5]:\n",
    "    print(i)\n",
    "else:\n",
    "    continueIndex=5\n",
    "    while(True):\n",
    "        takeInput=input(\"do you want continue?(y/n)\")\n",
    "        if(takeInput==\"y\" or takeInput==\"y\"):\n",
    "            for i in range(continueIndex,continueIndex+5):\n",
    "                print(s1[i])\n",
    "            continueIndex=continueIndex+5\n",
    "        else:\n",
    "            break"
   ]
  },
  {
   "cell_type": "code",
   "execution_count": 74,
   "metadata": {},
   "outputs": [
    {
     "name": "stdout",
     "output_type": "stream",
     "text": [
      "['w', 'o', 'm', 'l', 'e', 'e', 'c']\n"
     ]
    }
   ],
   "source": [
    "s=\"welcome\"\n",
    "print(sorted(s,reverse=True))"
   ]
  },
  {
   "cell_type": "code",
   "execution_count": 83,
   "metadata": {},
   "outputs": [
    {
     "name": "stdout",
     "output_type": "stream",
     "text": [
      "['__add__', '__class__', '__contains__', '__delattr__', '__dir__', '__doc__', '__eq__', '__format__', '__ge__', '__getattribute__', '__getitem__', '__getnewargs__', '__gt__', '__hash__', '__init__', '__init_subclass__', '__iter__', '__le__', '__len__', '__lt__', '__mod__', '__mul__', '__ne__', '__new__', '__reduce__', '__reduce_ex__', '__repr__', '__rmod__', '__rmul__', '__setattr__', '__sizeof__', '__str__', '__subclasshook__', 'capitalize', 'casefold', 'center', 'count', 'encode', 'endswith', 'expandtabs', 'find', 'format', 'format_map', 'index', 'isalnum', 'isalpha', 'isascii', 'isdecimal', 'isdigit', 'isidentifier', 'islower', 'isnumeric', 'isprintable', 'isspace', 'istitle', 'isupper', 'join', 'ljust', 'lower', 'lstrip', 'maketrans', 'partition', 'replace', 'rfind', 'rindex', 'rjust', 'rpartition', 'rsplit', 'rstrip', 'split', 'splitlines', 'startswith', 'strip', 'swapcase', 'title', 'translate', 'upper', 'zfill']\n"
     ]
    }
   ],
   "source": [
    "# capitalize,title,swapcase,upper,lower,count,find,rfind,index,rindex,startswith,endswith,isupper,islower,isspace,istitle,\n",
    "# isdigit,isnumeric,isidentifier,replace,join,split,translate,maketrans,isalnum,strip,lstrip,rstrip\n",
    "import string\n",
    "s=\"hello idiot\"\n",
    "print(dir(s))\n"
   ]
  },
  {
   "cell_type": "code",
   "execution_count": 90,
   "metadata": {},
   "outputs": [
    {
     "data": {
      "text/plain": [
       "'hello idiot'"
      ]
     },
     "execution_count": 90,
     "metadata": {},
     "output_type": "execute_result"
    }
   ],
   "source": [
    "s.capitalize()\n",
    "s.title()\n",
    "s.swapcase()\n",
    "s.upper()\n",
    "s.lower()"
   ]
  },
  {
   "cell_type": "code",
   "execution_count": 2,
   "metadata": {},
   "outputs": [
    {
     "name": "stdout",
     "output_type": "stream",
     "text": [
      "Give me a string: This\n",
      "ThiS\n"
     ]
    }
   ],
   "source": [
    "i=input(\"Give me a string: \")\n",
    "i=i.title()\n",
    "i=i[:len(i)-1]+i[len(i)-1].upper()\n",
    "indexOfFirstSpace=0\n",
    "for j in i:\n",
    "    if(j==\" \"):\n",
    "        break\n",
    "    indexOfFirstSpace=indexOfFirstSpace+1\n",
    "i=i[:indexOfFirstSpace-1]+i[indexOfFirstSpace-1].upper()+i[indexOfFirstSpace:]\n",
    "print(i)"
   ]
  },
  {
   "cell_type": "code",
   "execution_count": 102,
   "metadata": {},
   "outputs": [
    {
     "data": {
      "text/plain": [
       "0"
      ]
     },
     "execution_count": 102,
     "metadata": {},
     "output_type": "execute_result"
    }
   ],
   "source": [
    "s=\"apple mango apple mango apple mango apple\"\n",
    "s.count(\"apple\")\n",
    "s.count('a')\n",
    "s.count(\"apple\",1,len(s))\n",
    "s.count(\"Z\")"
   ]
  },
  {
   "cell_type": "code",
   "execution_count": 111,
   "metadata": {},
   "outputs": [
    {
     "data": {
      "text/plain": [
       "-1"
      ]
     },
     "execution_count": 111,
     "metadata": {},
     "output_type": "execute_result"
    }
   ],
   "source": [
    "# This method gives position of first occurance of the given substring in parent string \n",
    "s.find(\"apple\")\n",
    "s.find(\"z\") #will return -1\n",
    "\n",
    "# This method gives position of last occurance of the given substring in parent string \n",
    "s.rfind(\"apple\")\n",
    "s.rfind(\"apple\",1,36)\n",
    "s.rfind(\"Z\")\n",
    "\n",
    "# index and rindex methods are also same but they give error when such substring is not found in parent string"
   ]
  },
  {
   "cell_type": "code",
   "execution_count": 116,
   "metadata": {},
   "outputs": [
    {
     "data": {
      "text/plain": [
       "False"
      ]
     },
     "execution_count": 116,
     "metadata": {},
     "output_type": "execute_result"
    }
   ],
   "source": [
    "s=\"b1 is best\"\n",
    "s.startswith(\"b1\")\n",
    "s=\"VHA10\"\n",
    "s.isalnum()#is alpha or numeric? 0-9,A-Z,a-z\n",
    "s=\"VHA 10\"\n",
    "s.isalnum()"
   ]
  },
  {
   "cell_type": "code",
   "execution_count": 1,
   "metadata": {},
   "outputs": [
    {
     "data": {
      "text/plain": [
       "True"
      ]
     },
     "execution_count": 1,
     "metadata": {},
     "output_type": "execute_result"
    }
   ],
   "source": [
    "s=\"Vh Bhavya\"\n",
    "s.isupper()\n",
    "s.islower()\n",
    "s.isspace()\n",
    "s.istitle()"
   ]
  },
  {
   "cell_type": "code",
   "execution_count": 11,
   "metadata": {},
   "outputs": [
    {
     "name": "stdout",
     "output_type": "stream",
     "text": [
      "False\n"
     ]
    }
   ],
   "source": [
    "print(\"@\".isidentifier())"
   ]
  },
  {
   "cell_type": "code",
   "execution_count": 22,
   "metadata": {},
   "outputs": [
    {
     "name": "stdout",
     "output_type": "stream",
     "text": [
      "Enter your password:123467890-\n",
      "Password must contain atleast two uppercase letters\n",
      "Password must contain atleast two lowercase letters\n",
      "Password must contain atleast two special characters\n",
      "Enter your password:q\n",
      "Password must be greater than 8 digits\n",
      "Enter your password:Q\n"
     ]
    }
   ],
   "source": [
    "# PASSWORD CHECK\n",
    "# LENGTH>8,TWO UPPER ATLEAST,TWO LOWER ATLEAST,atleast two digit,atleast two sp.char,space not allowed\n",
    "\n",
    "while(True):\n",
    "    password=input(\"Enter your password:\")\n",
    "    if(password==\"Q\"):\n",
    "            break\n",
    "    if(len(password)<8):\n",
    "        print(\"Password must be greater than 8 digits\")\n",
    "    else:\n",
    "        upperCount=0\n",
    "        lowerCount=0\n",
    "        digitCount=0\n",
    "        specialCharCount=0\n",
    "        spaceCount=0\n",
    "        for i in password:\n",
    "            if(i.isspace()):\n",
    "                spaceCount+=1\n",
    "                print(\"Password must not contain space\")\n",
    "            elif(i.isupper()):\n",
    "                upperCount+=1\n",
    "            elif(i.islower()):\n",
    "                lowerCount+=1\n",
    "            elif(i.isdigit()):\n",
    "                digitCount+=1\n",
    "            elif(not i.isalnum()):\n",
    "                specialCharCount+=1\n",
    "        if(upperCount<2):\n",
    "            print(\"Password must contain atleast two uppercase letters\")\n",
    "        if(lowerCount<2):\n",
    "            print(\"Password must contain atleast two lowercase letters\")\n",
    "        if(digitCount<2):\n",
    "            print(\"Password must contain atleast two digits\")\n",
    "        if(specialCharCount<2):\n",
    "            print(\"Password must contain atleast two special characters\")\n",
    "        if(upperCount>=2 and lowerCount>=2 and digitCount>=2 and specialCharCount>=2 and spaceCount==0):\n",
    "            print(\"valid password\")\n",
    "            break"
   ]
  },
  {
   "cell_type": "code",
   "execution_count": 37,
   "metadata": {},
   "outputs": [
    {
     "name": "stdout",
     "output_type": "stream",
     "text": [
      "Enter a message:Vishal 10\n",
      "Enter key:3\n",
      "Ylvkdo 43\n",
      "Vishal 10\n"
     ]
    }
   ],
   "source": [
    "# encrypt or decrypt\n",
    "# keys:1 to 10\n",
    "message=input(\"Enter a message:\")\n",
    "key=int(input(\"Enter key:\"))\n",
    "# if(key<=0 or key>=10):\n",
    "#     print(\"Invalid key\")\n",
    "encrypted=\"\"\n",
    "# for i in message:\n",
    "#     if(i.isspace()):\n",
    "#         encrypted+=\" \"\n",
    "#         continue\n",
    "#     elif(i.isdigit()):\n",
    "#         digit=int(i)\n",
    "#         digit+=key\n",
    "#         encrypted+=str(digit)\n",
    "#         continue\n",
    "#     value=ord(i)\n",
    "#     if((value)%123<key):\n",
    "#         newValue=97+(key-(value%122))\n",
    "#         encrypted+=chr(newValue)\n",
    "#     elif((value)%98<key):\n",
    "#         newValue=65+(key-(value%97))\n",
    "#         encrypted+=chr(newValue)\n",
    "#     else:\n",
    "#         newValue=value+key\n",
    "#         encrypted+=chr(newValue)\n",
    "# print(encrypted)\n",
    "\n",
    "Alpha=\"ABCDEFGHIJKLMNOPQSTUVWXYZ\"\n",
    "alpha=Alpha.lower()\n",
    "digit=\"0123456789\"\n",
    "for i in message:\n",
    "    if i in Alpha:\n",
    "        encrypted+=Alpha[(Alpha.find(i)+key)%len(Alpha)]\n",
    "    elif i in alpha:\n",
    "        encrypted+=alpha[(alpha.find(i)+key)%len(alpha)]\n",
    "    elif i in digit:\n",
    "        encrypted+=digit[(digit.find(i)+key)%len(digit)]\n",
    "    else:\n",
    "        encrypted+=i\n",
    "print(encrypted)\n",
    "\n",
    "decrypted=\"\"\n",
    "for i in encrypted:\n",
    "    if i in Alpha:\n",
    "        decrypted+=Alpha[(Alpha.find(i)-key)%len(Alpha)]\n",
    "    elif i in alpha:\n",
    "        decrypted+=alpha[(alpha.find(i)-key)%len(alpha)]\n",
    "    elif i in digit:\n",
    "        decrypted+=digit[(digit.find(i)-key)%len(digit)]\n",
    "    else:\n",
    "        decrypted+=i\n",
    "print(decrypted)"
   ]
  },
  {
   "cell_type": "code",
   "execution_count": 39,
   "metadata": {},
   "outputs": [
    {
     "name": "stdout",
     "output_type": "stream",
     "text": [
      " vishal     \n",
      "vishal\n",
      "vishal     \n",
      " vishal\n"
     ]
    }
   ],
   "source": [
    "s=\" vishal     \"\n",
    "print(s)\n",
    "print(s.strip())\n",
    "print(s.lstrip())\n",
    "print(s.rstrip())"
   ]
  },
  {
   "cell_type": "code",
   "execution_count": 43,
   "metadata": {},
   "outputs": [
    {
     "name": "stdout",
     "output_type": "stream",
     "text": [
      "['b1', 'is best']\n",
      "['b1 i', ' be', 't']\n"
     ]
    }
   ],
   "source": [
    "s=\"b1 is best\"\n",
    "print(s.split(\" \",1))\n",
    "print(s.split(\"s\"))"
   ]
  },
  {
   "cell_type": "code",
   "execution_count": 47,
   "metadata": {},
   "outputs": [
    {
     "name": "stdout",
     "output_type": "stream",
     "text": [
      "Enter a string:jlktre\n",
      "JlktrE \n"
     ]
    }
   ],
   "source": [
    "# Convert all word's first and last letter capital\n",
    "# \n",
    "string=input(\"Enter a string:\")\n",
    "splitString=string.split(\" \")\n",
    "newString=\"\"\n",
    "for i in splitString:\n",
    "    newString+=i[0].upper()+i[1:len(i)-1]+i[len(i)-1].upper()+\" \"\n",
    "print(newString) "
   ]
  },
  {
   "cell_type": "code",
   "execution_count": 54,
   "metadata": {},
   "outputs": [
    {
     "name": "stdout",
     "output_type": "stream",
     "text": [
      "1_2_3\n",
      "what are thare\n",
      "what are this\n"
     ]
    }
   ],
   "source": [
    "print(\"_\".join([\"1\",\"2\",\"3\"]))\n",
    "print(\"what is this\".replace(\"is\",\"are\"))\n",
    "print(\"what is this\".replace(\"is\",\"are\",1))"
   ]
  },
  {
   "cell_type": "code",
   "execution_count": 62,
   "metadata": {},
   "outputs": [
    {
     "name": "stdout",
     "output_type": "stream",
     "text": [
      "{97: 100, 98: 101, 99: 102, 105: None, 118: None}\n",
      "ds edlC\n"
     ]
    }
   ],
   "source": [
    "you=\" \"\n",
    "table=you.maketrans(\"abc\",\"def\",\"i\")\n",
    "print(table)\n",
    "s=\"avis balC\"\n",
    "print(s.translate(table))"
   ]
  },
  {
   "cell_type": "code",
   "execution_count": 71,
   "metadata": {},
   "outputs": [
    {
     "name": "stdout",
     "output_type": "stream",
     "text": [
      "enter string:@262173217dasbhjasb\n",
      "262173217dasbhjasb\n"
     ]
    }
   ],
   "source": [
    "import string\n",
    "string.punctuation\n",
    "# Remove special characters from input string\n",
    "specialChar=\"\"\"'!\"#$%&\\'()*+,-./:;<=>?@[\\\\]^_`{|}~'\"\"\"\n",
    "s=input(\"enter string:\")\n",
    "# method-1\n",
    "# newString=\"\"\n",
    "# for i in s:\n",
    "#     if(i in specialChar):\n",
    "#         continue\n",
    "#     newString+=i\n",
    "# print(newString)\n",
    "\n",
    "# method-2\n",
    "table=\"\".maketrans(\" \",\" \",string.punctuation)\n",
    "print(s.translate(table))"
   ]
  }
 ],
 "metadata": {
  "kernelspec": {
   "display_name": "Python 3",
   "language": "python",
   "name": "python3"
  },
  "language_info": {
   "codemirror_mode": {
    "name": "ipython",
    "version": 3
   },
   "file_extension": ".py",
   "mimetype": "text/x-python",
   "name": "python",
   "nbconvert_exporter": "python",
   "pygments_lexer": "ipython3",
   "version": "3.8.5"
  }
 },
 "nbformat": 4,
 "nbformat_minor": 4
}
