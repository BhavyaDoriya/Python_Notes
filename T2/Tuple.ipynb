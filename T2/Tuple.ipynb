{
 "cells": [
  {
   "cell_type": "code",
   "execution_count": 4,
   "metadata": {},
   "outputs": [
    {
     "name": "stdout",
     "output_type": "stream",
     "text": [
      "<class 'tuple'>\n",
      "1895611444336\n",
      "140716192704352\n",
      "((1, 2), (3, 4, 5), (6, 7))\n"
     ]
    }
   ],
   "source": [
    "t=(3,4,5,6)\n",
    "print(type(t))\n",
    "print(id(t))\n",
    "print(id(t[0]))\n",
    "t=('1',1.1,1,len('vi')) #heterogeneous\n",
    "t=((1,2),(3,4,5),(6,7))\n",
    "print(t)"
   ]
  },
  {
   "cell_type": "code",
   "execution_count": 7,
   "metadata": {},
   "outputs": [
    {
     "name": "stdout",
     "output_type": "stream",
     "text": [
      "<class 'int'>\n",
      "<class 'tuple'>\n"
     ]
    }
   ],
   "source": [
    "t=(1)\n",
    "print(type(t))\n",
    "t=(1,)\n",
    "print(type(t))"
   ]
  },
  {
   "cell_type": "code",
   "execution_count": 14,
   "metadata": {},
   "outputs": [
    {
     "name": "stdout",
     "output_type": "stream",
     "text": [
      "e\n",
      "8\n",
      "8\n",
      "4\n",
      "4\n"
     ]
    }
   ],
   "source": [
    "t=(1,2,\"hello\")\n",
    "print(t[2][1])\n",
    "t=((1,2),(3,4,5),(6,7,8),(9,10,11))\n",
    "print(t[2][2])\n",
    "print(t[-2][-1])\n",
    "t=(((1,2),(3,4,5),(6,7,8)),(9,10,11))\n",
    "print(t[0][1][1])\n",
    "print(t[-2][-2][-2])"
   ]
  },
  {
   "cell_type": "code",
   "execution_count": 19,
   "metadata": {},
   "outputs": [
    {
     "name": "stdout",
     "output_type": "stream",
     "text": [
      "('c', 'b', 'a')\n",
      "(2, 4, 7)\n"
     ]
    }
   ],
   "source": [
    "# Slicing\n",
    "t=(\"a\",\"b\",\"c\")\n",
    "print(t[::-1])\n",
    "t=(1,2,3,4,5,7)\n",
    "print(t[1::2])"
   ]
  },
  {
   "cell_type": "code",
   "execution_count": 23,
   "metadata": {},
   "outputs": [
    {
     "name": "stdout",
     "output_type": "stream",
     "text": [
      "(1,)\n",
      "1\n",
      "1\n"
     ]
    }
   ],
   "source": [
    "# In slicing dimension does not reduce\n",
    "# but when you access element by index it reduces dimension by 1\n",
    "t=(1,2,3,4,5,7)\n",
    "print(t[0:1])\n",
    "print(t[0])\n",
    "# print(len(t[0]))-->Error-->since integer does not have length\n",
    "print(len(t[0:1]))"
   ]
  },
  {
   "cell_type": "code",
   "execution_count": 29,
   "metadata": {},
   "outputs": [
    {
     "name": "stdout",
     "output_type": "stream",
     "text": [
      "(1, 2, ['DADA', 'hello'], 4) ❤️\n"
     ]
    }
   ],
   "source": [
    "# tuple is immutable ds\n",
    "t=(1,2,3,4,5,\"Hello\")\n",
    "# t[0]=5  TypeError--> tuple is immutable\n",
    "# t[-1][-1]=\"j\"   TypeError--> string is also immutable\n",
    "t=(1,2,[9,\"hello\"],4)\n",
    "t[2][0]=\"DADA\" #list is mutable\n",
    "print(t,\"❤️\")"
   ]
  },
  {
   "cell_type": "code",
   "execution_count": 30,
   "metadata": {},
   "outputs": [],
   "source": [
    "# you can do del t\n",
    "# but you can't do del t[0] cause tuple is immutable"
   ]
  },
  {
   "cell_type": "code",
   "execution_count": 36,
   "metadata": {},
   "outputs": [
    {
     "name": "stdout",
     "output_type": "stream",
     "text": [
      "('a', 'b', 'c', 3, 4, 5, 6)\n",
      "('a', 'b', 'c', 3, 4, 5, 6, 'a', 'b', 'c', 3, 4, 5, 6, 'a', 'b', 'c', 3, 4, 5, 6, 'a', 'b', 'c', 3, 4, 5, 6)\n"
     ]
    }
   ],
   "source": [
    "# arithmetic operators\n",
    "t=(\"a\",\"b\",\"c\")\n",
    "t=t+(3,4)+(5,6)\n",
    "print(t)\n",
    "print(t*4)"
   ]
  },
  {
   "cell_type": "code",
   "execution_count": 42,
   "metadata": {},
   "outputs": [
    {
     "name": "stdout",
     "output_type": "stream",
     "text": [
      "False\n",
      "True\n",
      "False\n"
     ]
    }
   ],
   "source": [
    "# membership operator\n",
    "print(\"1\" in (1,2,3))\n",
    "print(1 in (1,2,3))\n",
    "print(\"1\" in (\"213\",2,3))"
   ]
  },
  {
   "cell_type": "code",
   "execution_count": 49,
   "metadata": {},
   "outputs": [
    {
     "name": "stdout",
     "output_type": "stream",
     "text": [
      "1\n",
      "2\n",
      "3\n",
      "4\n",
      "5\n",
      "0 --> 1\n",
      "1 --> 2\n",
      "2 --> 3\n",
      "3 --> 4\n",
      "4 --> 5\n",
      "((0, 1), (1, 2), (2, 3), (3, 4), (4, 5))\n",
      "((11, 1), (12, 2), (13, 3), (14, 4), (15, 5))\n"
     ]
    }
   ],
   "source": [
    "# Using loops to traverse list\n",
    "t=(1,2,3,4,5)\n",
    "for i in t:\n",
    "    print(i)\n",
    "for i,j in enumerate(t):\n",
    "    print(i,\"-->\",j)\n",
    "print(tuple(enumerate(t)))\n",
    "print(tuple(enumerate(t,start=11)))\n"
   ]
  },
  {
   "cell_type": "code",
   "execution_count": 56,
   "metadata": {},
   "outputs": [
    {
     "name": "stdout",
     "output_type": "stream",
     "text": [
      "Enter tuple: (1,2,3,4,5,6,7,8)\n",
      "even :  (2, 4, 6, 8)\n",
      "odd :  (1, 3, 5, 7)\n"
     ]
    }
   ],
   "source": [
    "# Write a program to take a tuple in input and create two different tuples that seperates even add terms from input tuple\n",
    "t=eval(input(\"Enter tuple: \"))# eval-->will  take tuple or list or dictionary or anything in input\n",
    "even=()\n",
    "odd=()\n",
    "for i in t:\n",
    "    if(i%2==0):\n",
    "        even+=(i,)\n",
    "    elif(i%2!=0):\n",
    "        odd+=(i,)\n",
    "    else:\n",
    "        print(\"invalid\")\n",
    "print(\"even : \",even)\n",
    "print(\"odd : \",odd)"
   ]
  },
  {
   "cell_type": "code",
   "execution_count": 60,
   "metadata": {},
   "outputs": [
    {
     "name": "stdout",
     "output_type": "stream",
     "text": [
      "4\n",
      "1\n",
      "4\n",
      "10\n",
      "[1, 2, 3, 4]\n",
      "[4, 3, 2, 1]\n"
     ]
    }
   ],
   "source": [
    "t=(1,2,3,4)\n",
    "# methods: len,min,max,sum.sorted : this method requires tuple to have homogeneous data otherwise it will give error\n",
    "print(len(t))\n",
    "print (min(t))\n",
    "print(max(t))\n",
    "print(sum(t))\n",
    "print(sorted(t))#returns list instead of tuple\n",
    "print(sorted(t,reverse=True))"
   ]
  },
  {
   "cell_type": "code",
   "execution_count": 62,
   "metadata": {},
   "outputs": [
    {
     "name": "stdout",
     "output_type": "stream",
     "text": [
      "['B1', 'Hello', 'vishal']\n"
     ]
    }
   ],
   "source": [
    "t=(\"vishal\",\"B1\",\"Hello\")\n",
    "print(sorted(t,key=len))\n"
   ]
  },
  {
   "cell_type": "code",
   "execution_count": 64,
   "metadata": {},
   "outputs": [
    {
     "name": "stdout",
     "output_type": "stream",
     "text": [
      "2\n",
      "3\n"
     ]
    }
   ],
   "source": [
    "t=(1,2,3,4,5,2,2)\n",
    "print(t.index(3))\n",
    "print(t.count(2))#you can't pass start and end range for count in this-->differes from string\n"
   ]
  },
  {
   "cell_type": "code",
   "execution_count": 72,
   "metadata": {},
   "outputs": [
    {
     "name": "stdout",
     "output_type": "stream",
     "text": [
      "<generator object <genexpr> at 0x000001B95B4C3740>\n",
      "(1, 2, 3, 4, 5, 6, 7, 8, 9, 10, 11, 12, 13, 14, 15, 16, 17, 18, 19, 20, 21, 22, 23, 24, 25, 26, 27, 28, 29, 30, 31, 32, 33, 34, 35, 36, 37, 38, 39, 40, 41, 42, 43, 44, 45, 46, 47, 48, 49, 50, 51, 52, 53, 54, 55, 56, 57, 58, 59, 60, 61, 62, 63, 64, 65, 66, 67, 68, 69, 70, 71, 72, 73, 74, 75, 76, 77, 78, 79, 80, 81, 82, 83, 84, 85, 86, 87, 88, 89, 90, 91, 92, 93, 94, 95, 96, 97, 98, 99)\n"
     ]
    }
   ],
   "source": [
    "x=(i for i in range(1,100))#generator of x\n",
    "print(x)\n",
    "print(tuple(x))"
   ]
  },
  {
   "cell_type": "code",
   "execution_count": 77,
   "metadata": {},
   "outputs": [
    {
     "name": "stdout",
     "output_type": "stream",
     "text": [
      "Enter a tuple:(1,2,3,4,5,6,7,8,9)\n",
      "max even 8\n",
      "min even 2\n",
      "max odd 9\n",
      "min odd 1\n",
      "8 2\n",
      "9 1\n"
     ]
    }
   ],
   "source": [
    "# print max even,odd and min even,odd\n",
    "t=eval(input(\"Enter a tuple:\"))\n",
    "even=()\n",
    "odd=()\n",
    "for i in t:\n",
    "    if(i%2==0):\n",
    "        even+=(i,)\n",
    "    else:\n",
    "        odd+=(i,)\n",
    "print(\"max even\",max(even))\n",
    "print(\"min even\",min(even))\n",
    "print(\"max odd\",max(odd))\n",
    "print(\"min odd\",min(odd))\n",
    "\n",
    "# Method -2\n",
    "x=tuple((i for i in t if i%2==0))\n",
    "y=tuple((i for i in t if i%2!=0))\n",
    "print(max(x),min(x))\n",
    "print(max(y),min(y))"
   ]
  },
  {
   "cell_type": "code",
   "execution_count": null,
   "metadata": {},
   "outputs": [],
   "source": []
  }
 ],
 "metadata": {
  "kernelspec": {
   "display_name": "Python 3",
   "language": "python",
   "name": "python3"
  },
  "language_info": {
   "codemirror_mode": {
    "name": "ipython",
    "version": 3
   },
   "file_extension": ".py",
   "mimetype": "text/x-python",
   "name": "python",
   "nbconvert_exporter": "python",
   "pygments_lexer": "ipython3",
   "version": "3.8.5"
  }
 },
 "nbformat": 4,
 "nbformat_minor": 4
}
