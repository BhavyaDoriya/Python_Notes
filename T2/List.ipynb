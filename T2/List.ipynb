{
 "cells": [
  {
   "cell_type": "code",
   "execution_count": 5,
   "metadata": {},
   "outputs": [
    {
     "name": "stdout",
     "output_type": "stream",
     "text": [
      "[1, 2, 3]\n"
     ]
    }
   ],
   "source": [
    "l=[]\n",
    "l=list((1,2,3))\n",
    "print(l)\n",
    "# it is heterogenous and mutable"
   ]
  },
  {
   "cell_type": "code",
   "execution_count": 10,
   "metadata": {},
   "outputs": [
    {
     "name": "stdout",
     "output_type": "stream",
     "text": [
      "[]\n",
      "[]\n",
      "5\n",
      "[[5, 6], [3, 4], [1, 2]]\n"
     ]
    }
   ],
   "source": [
    "l=[[1,2],[3,4],[5,6]]\n",
    "print(l[2:-1])\n",
    "print(l[2:-2])\n",
    "print(l[2][0])\n",
    "print(l[::-1])"
   ]
  },
  {
   "cell_type": "code",
   "execution_count": 20,
   "metadata": {},
   "outputs": [
    {
     "name": "stdout",
     "output_type": "stream",
     "text": [
      "[1, 7, 3, 4, 'Hello']\n",
      "[1, 15, 16, 17, 'Hello']\n"
     ]
    }
   ],
   "source": [
    "l=[1,2,3,4,\"Hello\"]\n",
    "l[1]=7\n",
    "print(l)\n",
    "l[1:4]=tuple(i for i in range(15,18))\n",
    "print(l)"
   ]
  },
  {
   "cell_type": "code",
   "execution_count": 44,
   "metadata": {},
   "outputs": [
    {
     "name": "stdout",
     "output_type": "stream",
     "text": [
      "[5, 7, 1, 2, 3, 10, 9, 11, 2]\n",
      "[1, 2, 1, 2, 3, 4, 1, 2, 1]\n",
      "17\n"
     ]
    }
   ],
   "source": [
    "L=[5,7,1,2,3,10,9,11,2]\n",
    "# use minimum number of candies\n",
    "candies=list(1 for i in range(0,len(L)))\n",
    "# for i in range(0,len(L)):\n",
    "#     if(i==0):\n",
    "#         if(L[0]>L[1]):\n",
    "#             candies[0]=candies[1]+1\n",
    "#     elif(i==len(L)-1):\n",
    "#         break\n",
    "#     else:\n",
    "#         if(L[i]>L[i+1]):\n",
    "#             candies[i]=candies[i-1]+1\n",
    "#         else:\n",
    "#             candies[i+1]=candies[i]+1\n",
    "# if(candies[0]<candies[1]):\n",
    "#     candies[0]=candies[1]+1\n",
    "# print(L)\n",
    "# print(candies)\n",
    "\n",
    "for i in range(1,len(L)):\n",
    "    if L[i]>L[i-1]:\n",
    "        candies[i]=candies[i-1]+1\n",
    "for j in range(-2,0-len(L)-1,-1):\n",
    "    if(L[j]>L[j+1]):\n",
    "        candies[j]=max(candies[j],candies[j+1]+1)\n",
    "print(L)\n",
    "print(candies)    \n",
    "print(sum(candies))        "
   ]
  }
 ],
 "metadata": {
  "kernelspec": {
   "display_name": "Python 3",
   "language": "python",
   "name": "python3"
  },
  "language_info": {
   "codemirror_mode": {
    "name": "ipython",
    "version": 3
   },
   "file_extension": ".py",
   "mimetype": "text/x-python",
   "name": "python",
   "nbconvert_exporter": "python",
   "pygments_lexer": "ipython3",
   "version": "3.8.5"
  }
 },
 "nbformat": 4,
 "nbformat_minor": 4
}
